{
  "nbformat": 4,
  "nbformat_minor": 0,
  "metadata": {
    "colab": {
      "provenance": [],
      "authorship_tag": "ABX9TyPD+V/rs4WO5roL4Dxh4w5S",
      "include_colab_link": true
    },
    "kernelspec": {
      "name": "python3",
      "display_name": "Python 3"
    },
    "language_info": {
      "name": "python"
    }
  },
  "cells": [
    {
      "cell_type": "markdown",
      "metadata": {
        "id": "view-in-github",
        "colab_type": "text"
      },
      "source": [
        "<a href=\"https://colab.research.google.com/github/efe-akpinar/sleep-quality-analysis/blob/main/Data_Wrangling.ipynb\" target=\"_parent\"><img src=\"https://colab.research.google.com/assets/colab-badge.svg\" alt=\"Open In Colab\"/></a>"
      ]
    },
    {
      "cell_type": "code",
      "execution_count": 1,
      "metadata": {
        "id": "wdBOM1EWZirE"
      },
      "outputs": [],
      "source": [
        "import numpy as np\n",
        "import pandas as pd\n",
        "import matplotlib.pyplot as plt\n",
        "import seaborn as sns\n",
        "from datetime import datetime\n",
        "import xml.etree.ElementTree as ET"
      ]
    },
    {
      "cell_type": "markdown",
      "source": [
        "# Orginizing the Data Collected From Health **App**"
      ],
      "metadata": {
        "id": "Oz2OlI1W2kXJ"
      }
    },
    {
      "cell_type": "code",
      "source": [
        "\n",
        "\n",
        "# Load and parse the export.xml file\n",
        "export_file_path = os.path.join(apple_health_folder, \"export.xml\")\n",
        "tree = ET.parse(export_file_path)\n",
        "root = tree.getroot()\n",
        "\n",
        "# Display the root element and its immediate children to understand the structure\n",
        "root_tag = root.tag\n",
        "root_attributes = root.attrib\n",
        "first_level_children = [child.tag for child in root[:10]]  # Display the first 10 tags\n",
        "\n",
        "root_tag, root_attributes, first_level_children\n"
      ],
      "metadata": {
        "id": "yC3p8NsV0x3F"
      },
      "execution_count": null,
      "outputs": []
    },
    {
      "cell_type": "code",
      "source": [
        "# Extract a sample of the first 10 'Record' elements to inspect their attributes and structure\n",
        "record_elements = root.findall('Record')\n",
        "sample_records = [{attr: record.get(attr) for attr in record.attrib} for record in record_elements[:10]]\n",
        "\n",
        "# Display a sample of the records' attributes\n",
        "sample_records\n"
      ],
      "metadata": {
        "id": "zxcWWYCB00uq"
      },
      "execution_count": null,
      "outputs": []
    },
    {
      "cell_type": "code",
      "source": [
        "# Filter for specific health metrics: Sleep, Steps, and Calories\n",
        "# Sleep is typically a CategoryType; Steps and Calories are QuantityTypes\n",
        "sleep_records = [rec.attrib for rec in record_elements if \"HKCategoryTypeIdentifierSleepAnalysis\" in rec.get(\"type\", \"\")]\n",
        "step_records = [rec.attrib for rec in record_elements if \"HKQuantityTypeIdentifierStepCount\" in rec.get(\"type\", \"\")]\n",
        "calorie_records = [rec.attrib for rec in record_elements if \"HKQuantityTypeIdentifierActiveEnergyBurned\" in rec.get(\"type\", \"\")]\n",
        "\n",
        "# Check counts of relevant records\n",
        "len(sleep_records), len(step_records), len(calorie_records)\n"
      ],
      "metadata": {
        "id": "oeo66HwZ03ai"
      },
      "execution_count": null,
      "outputs": []
    },
    {
      "cell_type": "code",
      "source": [
        "\n",
        "# Function to convert date strings to datetime objects and extract the date\n",
        "def extract_date(record):\n",
        "    return datetime.strptime(record[\"startDate\"].split(\" \")[0], \"%Y-%m-%d\")\n",
        "\n",
        "# Aggregate step data by date\n",
        "steps_df = pd.DataFrame(step_records)\n",
        "steps_df[\"startDate\"] = steps_df[\"startDate\"].apply(lambda x: x.split(\" \")[0])  # Extract date only\n",
        "steps_df[\"value\"] = steps_df[\"value\"].astype(float)  # Convert step counts to numeric\n",
        "daily_steps = steps_df.groupby(\"startDate\")[\"value\"].sum().reset_index()\n",
        "daily_steps.rename(columns={\"startDate\": \"Date\", \"value\": \"Total_Steps\"}, inplace=True)\n",
        "\n",
        "# Aggregate calorie data by date\n",
        "calories_df = pd.DataFrame(calorie_records)\n",
        "calories_df[\"startDate\"] = calories_df[\"startDate\"].apply(lambda x: x.split(\" \")[0])  # Extract date only\n",
        "calories_df[\"value\"] = calories_df[\"value\"].astype(float)  # Convert calories to numeric\n",
        "daily_calories = calories_df.groupby(\"startDate\")[\"value\"].sum().reset_index()\n",
        "daily_calories.rename(columns={\"startDate\": \"Date\", \"value\": \"Total_Calories_Burned\"}, inplace=True)\n",
        "\n",
        "# Display the daily aggregated data for steps and calories\n",
        "daily_steps.head(), daily_calories.head()\n"
      ],
      "metadata": {
        "id": "5ldCFjto07R4"
      },
      "execution_count": null,
      "outputs": []
    },
    {
      "cell_type": "code",
      "source": [
        "# Convert sleep data into a DataFrame for processing\n",
        "sleep_df = pd.DataFrame(sleep_records)\n",
        "\n",
        "# Extract relevant columns and convert dates\n",
        "sleep_df[\"startDate\"] = pd.to_datetime(sleep_df[\"startDate\"])\n",
        "sleep_df[\"endDate\"] = pd.to_datetime(sleep_df[\"endDate\"])\n",
        "sleep_df[\"duration\"] = (sleep_df[\"endDate\"] - sleep_df[\"startDate\"]).dt.total_seconds() / 3600  # Duration in hours\n",
        "\n",
        "# Extract date only for aggregation\n",
        "sleep_df[\"Date\"] = sleep_df[\"startDate\"].dt.date\n",
        "\n",
        "# Aggregate total sleep duration per day\n",
        "daily_sleep = sleep_df.groupby(\"Date\")[\"duration\"].sum().reset_index()\n",
        "daily_sleep.rename(columns={\"duration\": \"Total_Sleep_Hours\"}, inplace=True)\n",
        "\n",
        "# Display the aggregated daily sleep data\n",
        "daily_sleep.head()\n"
      ],
      "metadata": {
        "id": "NG-2zFMY1AR8"
      },
      "execution_count": null,
      "outputs": []
    },
    {
      "cell_type": "code",
      "source": [
        "# Combine daily steps, calories, and sleep into a single DataFrame\n",
        "combined_data = pd.merge(daily_steps, daily_calories, on=\"Date\", how=\"outer\")\n",
        "combined_data = pd.merge(combined_data, daily_sleep, on=\"Date\", how=\"outer\")\n",
        "\n",
        "# Sort by Date and fill missing values with 0 for simplicity\n",
        "combined_data[\"Date\"] = pd.to_datetime(combined_data[\"Date\"])\n",
        "combined_data.sort_values(by=\"Date\", inplace=True)\n",
        "combined_data.fillna(0, inplace=True)\n",
        "\n",
        "# Display the combined dataset\n",
        "tools.display_dataframe_to_user(name=\"Aggregated Health Metrics\", dataframe=combined_data)\n"
      ],
      "metadata": {
        "id": "KAGB7BCN1Jal"
      },
      "execution_count": null,
      "outputs": []
    },
    {
      "cell_type": "code",
      "source": [
        "# Check for duplicate dates in the combined data\n",
        "duplicates_by_date = combined_data.duplicated(subset=[\"Date\"], keep=False)\n",
        "\n",
        "# Filter rows with duplicate dates\n",
        "duplicate_rows = combined_data[duplicates_by_date]\n",
        "\n",
        "# Group by date and combine the rows, summing the numeric values (e.g., steps, calories, sleep hours)\n",
        "merged_data = duplicate_rows.groupby(\"Date\").sum().reset_index()\n",
        "\n",
        "# Replace the original duplicate rows with the merged data in the dataset\n",
        "non_duplicates = combined_data[~duplicates_by_date]\n",
        "cleaned_combined_data = pd.concat([non_duplicates, merged_data], ignore_index=True).sort_values(by=\"Date\")\n",
        "\n",
        "# Display the cleaned dataset with merged rows\n",
        "tools.display_dataframe_to_user(name=\"Cleaned and Merged Health Metrics\", dataframe=cleaned_combined_data)\n"
      ],
      "metadata": {
        "id": "s5TAz-tA1VFP"
      },
      "execution_count": null,
      "outputs": []
    },
    {
      "cell_type": "markdown",
      "source": [
        "# **For Calculating Sleep Quality And Creating a Column For It**"
      ],
      "metadata": {
        "id": "OYmAaQizyvh7"
      }
    },
    {
      "cell_type": "code",
      "source": [
        "df = pd.read_excel(f'/content/Dataset_without_sleep_quality.xlsx')\n",
        "df.head()\n",
        "\n",
        "# Define Sleep Quality\n",
        "def determine_sleep_quality(row):\n",
        "    if row['Total_Sleep_Hours'] >= 7 and row['REM_Sleep'] >= 1.5 and row['Deep_Sleep'] >= 1.0:\n",
        "        return 'Good'\n",
        "    elif row['Total_Sleep_Hours'] >= 6:\n",
        "        return 'Moderate'\n",
        "    else:\n",
        "        return 'Poor'\n",
        "\n",
        "df['Sleep_Quality'] = df.apply(determine_sleep_quality, axis=1)\n",
        "\n",
        "# Save the updated dataset to a new file\n",
        "df.to_excel('Updated_Sleep_Dataset_With_Quality.xlsx', index=False)\n",
        "\n",
        "\n"
      ],
      "metadata": {
        "id": "rmIuR3qxaCji"
      },
      "execution_count": 12,
      "outputs": []
    }
  ]
}